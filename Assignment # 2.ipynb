{
 "cells": [
  {
   "cell_type": "code",
   "execution_count": 1,
   "metadata": {},
   "outputs": [
    {
     "name": "stdout",
     "output_type": "stream",
     "text": [
      "enter marks of math 100:98\n",
      "enter marks of english 100:89\n",
      "enter marks of urdu 100:79\n",
      "enter marks of physics 100:90\n",
      "enter marks of chemistry 100:90\n",
      "total marks are:446\n",
      "per are:89.2\n",
      "A-One grade\n"
     ]
    }
   ],
   "source": [
    "math=int(input(\"enter marks of math 100:\"))\n",
    "english=int(input(\"enter marks of english 100:\"))\n",
    "urdu=int(input(\"enter marks of urdu 100:\"))\n",
    "physics=int(input(\"enter marks of physics 100:\"))\n",
    "chemistry=int(input(\"enter marks of chemistry 100:\"))\n",
    "total_marks=math+english+urdu+physics+chemistry\n",
    "per=(total_marks*100)/500\n",
    "print(\"total marks are:\" + str(total_marks))\n",
    "print(\"per are:\" +str(per))\n",
    "if per >=80 and per <=100:\n",
    " print(\"A-One grade\")\n",
    "elif per >=70 and per <80: \n",
    " print(\"A grade\")\n",
    "elif per >=60 and per <70:\n",
    " print(\"B grade\")\n",
    "elif per >=50 and per <60:\n",
    " print(\"C grade\")\n",
    "elif per >=40 and per <50:\n",
    " print(\"D grade\")\n",
    "elif per >=33 and per <40:\n",
    " print(\"E grade\")\n",
    "elif per >= 0 and per < 33:\n",
    " print(\"F grade\")\n",
    "else:\n",
    " print(\"you have given inapproperiate %\")\n"
   ]
  },
  {
   "cell_type": "code",
   "execution_count": null,
   "metadata": {},
   "outputs": [],
   "source": []
  }
 ],
 "metadata": {
  "kernelspec": {
   "display_name": "Python 3",
   "language": "python",
   "name": "python3"
  },
  "language_info": {
   "codemirror_mode": {
    "name": "ipython",
    "version": 3
   },
   "file_extension": ".py",
   "mimetype": "text/x-python",
   "name": "python",
   "nbconvert_exporter": "python",
   "pygments_lexer": "ipython3",
   "version": "3.7.4"
  }
 },
 "nbformat": 4,
 "nbformat_minor": 2
}
