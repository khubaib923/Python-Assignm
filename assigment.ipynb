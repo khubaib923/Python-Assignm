{
 "cells": [
  {
   "cell_type": "code",
   "execution_count": 1,
   "metadata": {},
   "outputs": [
    {
     "name": "stdout",
     "output_type": "stream",
     "text": [
      "Twinkle,twinkle,little star\n",
      "      How I wonder what you are!\n",
      "            Up above the world so high,\n",
      "            Like a diamond in the sky.\n",
      "Twinkle,twinkle,little star,\n",
      "      How I wonder what you are\n"
     ]
    }
   ],
   "source": [
    "a=\"Twinkle,twinkle,little star\"\n",
    "b=\"      \"\"How I wonder what you are!\"\n",
    "c=\"            \"\"Up above the world so high,\"\n",
    "d=\"            \"\"Like a diamond in the sky.\"\n",
    "e=\"Twinkle,twinkle,little star,\"\n",
    "f=\"      \"\"How I wonder what you are\"\n",
    "print(a)\n",
    "print(b)\n",
    "print(c)\n",
    "print(d)\n",
    "print(e)\n",
    "print(f)"
   ]
  },
  {
   "cell_type": "code",
   "execution_count": 4,
   "metadata": {},
   "outputs": [
    {
     "name": "stdout",
     "output_type": "stream",
     "text": [
      "Current date and time : \n",
      "2019-11-03 04:20:18\n"
     ]
    }
   ],
   "source": [
    "import datetime\n",
    "now=datetime.datetime.now()\n",
    "print(\"Current date and time : \")\n",
    "print(now.strftime(\"%Y-%m-%d %H:%M:%S\"))"
   ]
  },
  {
   "cell_type": "code",
   "execution_count": 7,
   "metadata": {},
   "outputs": [
    {
     "name": "stdout",
     "output_type": "stream",
     "text": [
      "Enter Radius Value:5\n",
      "Area is :78.55\n"
     ]
    }
   ],
   "source": [
    "R=int(input(\"Enter Radius Value:\"))\n",
    "pi=3.142\n",
    "A=pi*R*R\n",
    "print(\"Area is:\" + str(A))"
   ]
  },
  {
   "cell_type": "code",
   "execution_count": 9,
   "metadata": {},
   "outputs": [
    {
     "name": "stdout",
     "output_type": "stream",
     "text": [
      "Enter First_Name:khubaib\n",
      "Enter Last_Name:irfan\n",
      "Name in reverse order is:irfan       khubaib\n"
     ]
    }
   ],
   "source": [
    "X=input(\"Enter First_Name:\")\n",
    "Y=input(\"Enter Last_Name:\")\n",
    "Z=Y +\"       \"+ X\n",
    "print(\"Name in reverse order is:\" + str(Z))"
   ]
  },
  {
   "cell_type": "code",
   "execution_count": 3,
   "metadata": {},
   "outputs": [
    {
     "name": "stdout",
     "output_type": "stream",
     "text": [
      "enter input_1:5\n",
      "enter input_2:6\n",
      "addition of two number is:11\n"
     ]
    }
   ],
   "source": [
    "x=int(input(\"enter input_1:\"))\n",
    "y=int(input(\"enter input_2:\"))\n",
    "z=x+y\n",
    "print(\"addition of two number is:\" + str(z))"
   ]
  },
  {
   "cell_type": "code",
   "execution_count": 4,
   "metadata": {},
   "outputs": [
    {
     "name": "stdout",
     "output_type": "stream",
     "text": [
      "version is3.7.4 (default, Aug  9 2019, 18:34:13) [MSC v.1915 64 bit (AMD64)]\n"
     ]
    }
   ],
   "source": [
    "import sys\n",
    "version=sys.version\n",
    "print(\"version is\" +version)"
   ]
  },
  {
   "cell_type": "code",
   "execution_count": null,
   "metadata": {},
   "outputs": [],
   "source": []
  }
 ],
 "metadata": {
  "kernelspec": {
   "display_name": "Python 3",
   "language": "python",
   "name": "python3"
  },
  "language_info": {
   "codemirror_mode": {
    "name": "ipython",
    "version": 3
   },
   "file_extension": ".py",
   "mimetype": "text/x-python",
   "name": "python",
   "nbconvert_exporter": "python",
   "pygments_lexer": "ipython3",
   "version": "3.7.4"
  }
 },
 "nbformat": 4,
 "nbformat_minor": 2
}
